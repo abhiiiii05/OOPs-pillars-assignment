{
 "cells": [
  {
   "cell_type": "code",
   "execution_count": null,
   "id": "0185e402-c4d7-412d-bfaa-549d5c16f8e9",
   "metadata": {},
   "outputs": [],
   "source": [
    "Q1. Create a vehicle class with an init method having instance variables as name_of_vehicle, max_speed \n",
    "and average_of_vehicle."
   ]
  },
  {
   "cell_type": "code",
   "execution_count": 112,
   "id": "8ef12183-56de-402c-afb7-33db6f704ea5",
   "metadata": {},
   "outputs": [],
   "source": [
    "class vehicle:\n",
    "    def __init__(self , name_of_vehicle, max_speed, average_of_vehicle):\n",
    "        self.__name_of_vehicle = name_of_vehicle\n",
    "        self.__max_speed = 0\n",
    "        self.__average_of_vehicle = 0\n",
    "        \n",
    "    def set_max_speed(self , max_speed):\n",
    "        self.__max_speed = 0 if max_speed < 0 else max_speed\n",
    "    def get_max_speed(self):\n",
    "        return self.__max_speed\n",
    "        \n",
    "    def get_name_of_vehicle(self):\n",
    "        return self.__name_of_vehicle"
   ]
  },
  {
   "cell_type": "code",
   "execution_count": 95,
   "id": "669809d4-00e3-4fa6-bf65-a8db92de63ae",
   "metadata": {},
   "outputs": [],
   "source": [
    "obj_vehicle = vehicle(\"shotgun 650\",210,110)"
   ]
  },
  {
   "cell_type": "code",
   "execution_count": 96,
   "id": "d4028890-75f3-42d2-8b1d-1de89afabd1c",
   "metadata": {},
   "outputs": [],
   "source": [
    "obj_vehicle.set_max_speed(123)"
   ]
  },
  {
   "cell_type": "code",
   "execution_count": 97,
   "id": "d2cfa948-7a4f-436e-84c3-e0dd161984a6",
   "metadata": {},
   "outputs": [
    {
     "data": {
      "text/plain": [
       "123"
      ]
     },
     "execution_count": 97,
     "metadata": {},
     "output_type": "execute_result"
    }
   ],
   "source": [
    "obj_vehicle.get_max_speed()"
   ]
  },
  {
   "cell_type": "code",
   "execution_count": 98,
   "id": "ab20ca0e-aa72-472a-b39d-7b5f8f37d1b1",
   "metadata": {},
   "outputs": [
    {
     "data": {
      "text/plain": [
       "'shotgun 650'"
      ]
     },
     "execution_count": 98,
     "metadata": {},
     "output_type": "execute_result"
    }
   ],
   "source": [
    "obj_vehicle._vehicle__name_of_vehicle"
   ]
  },
  {
   "cell_type": "code",
   "execution_count": null,
   "id": "a6b9a8ab-a951-4173-97d8-91a9fc62ec38",
   "metadata": {},
   "outputs": [],
   "source": [
    "Q2.  Create a child class car from the vehicle class created in Que 1, which will inherit the vehicle class. \n",
    "Create a method named seating_capacity which takes capacity as an argument and returns the name of \n",
    "the vehicle and its seating capacity."
   ]
  },
  {
   "cell_type": "code",
   "execution_count": 99,
   "id": "4aca8b30-1326-4335-af76-09ee84769caa",
   "metadata": {},
   "outputs": [],
   "source": [
    "class car(vehicle):\n",
    "    def __init__(self , name_of_vehicle, max_speed, average_of_vehicle, seating_capacity):\n",
    "        super().__init__(name_of_vehicle, max_speed, average_of_vehicle)\n",
    "        self.__seating_capacity = 4\n",
    "        \n",
    "    def set_seating_capacity(self , seating_capacity):\n",
    "        self.__seating_capacity = 4 if seating_capacity < 4 else seating_capacity\n",
    "        \n",
    "    def get_seating_capacity(self):\n",
    "        return self.__seating_capacity"
   ]
  },
  {
   "cell_type": "code",
   "execution_count": 100,
   "id": "bfb4f921-3756-42ea-9fc0-e24a86fc93b4",
   "metadata": {},
   "outputs": [],
   "source": [
    "obj_car = car(\"Fortuner\", 200 , 40 , 7)"
   ]
  },
  {
   "cell_type": "code",
   "execution_count": 101,
   "id": "933b8806-0a50-4e1c-84d0-3195be9224fc",
   "metadata": {},
   "outputs": [
    {
     "data": {
      "text/plain": [
       "4"
      ]
     },
     "execution_count": 101,
     "metadata": {},
     "output_type": "execute_result"
    }
   ],
   "source": [
    "obj_car.get_seating_capacity()"
   ]
  },
  {
   "cell_type": "code",
   "execution_count": 113,
   "id": "61c760ca-621f-4de5-bf5d-7fa4a281cf9a",
   "metadata": {},
   "outputs": [
    {
     "data": {
      "text/plain": [
       "'Fortuner'"
      ]
     },
     "execution_count": 113,
     "metadata": {},
     "output_type": "execute_result"
    }
   ],
   "source": [
    "obj_car.get_name_of_vehicle()"
   ]
  },
  {
   "cell_type": "code",
   "execution_count": null,
   "id": "f3f9ef57-819e-4b47-aaf7-fdf6f41b704c",
   "metadata": {},
   "outputs": [],
   "source": [
    "Q3. What is multiple inheritance? Write a python code to demonstrate multiple inheritance."
   ]
  },
  {
   "cell_type": "code",
   "execution_count": 1,
   "id": "0b57fa83-fc14-460c-9922-7866d329432f",
   "metadata": {},
   "outputs": [],
   "source": [
    "#Multiple inheritance is a feature of object-oriented programming languages where a class can inherit properties and methods from multiple parent classes.\n",
    "class class1:\n",
    "    def test_class1(self):\n",
    "        print(\"this is my class1\")\n",
    "        \n",
    "class class2(class1):\n",
    "    def test_class2(self):\n",
    "        print(\"this is my class2\")\n",
    "        \n",
    "class class3(class2):\n",
    "    def test_class3(self):\n",
    "        print(\"this is my class3\")"
   ]
  },
  {
   "cell_type": "code",
   "execution_count": 2,
   "id": "0555d93f-3de8-47f9-a144-054b8638f4f5",
   "metadata": {},
   "outputs": [],
   "source": [
    "obj_class3 = class3()"
   ]
  },
  {
   "cell_type": "code",
   "execution_count": 3,
   "id": "9eb9bcb8-3778-4871-9b69-53fa5176a65a",
   "metadata": {},
   "outputs": [
    {
     "name": "stdout",
     "output_type": "stream",
     "text": [
      "this is my class1\n"
     ]
    }
   ],
   "source": [
    "obj_class3.test_class1()"
   ]
  },
  {
   "cell_type": "code",
   "execution_count": 4,
   "id": "ce9bcbc3-4e9e-4227-9a7f-19dfe4303eb0",
   "metadata": {},
   "outputs": [
    {
     "name": "stdout",
     "output_type": "stream",
     "text": [
      "this is my class2\n"
     ]
    }
   ],
   "source": [
    "obj_class3.test_class2()"
   ]
  },
  {
   "cell_type": "code",
   "execution_count": 5,
   "id": "673dc55c-bee3-4b72-b6cf-308df11aef5d",
   "metadata": {},
   "outputs": [
    {
     "name": "stdout",
     "output_type": "stream",
     "text": [
      "this is my class3\n"
     ]
    }
   ],
   "source": [
    "obj_class3.test_class3()"
   ]
  },
  {
   "cell_type": "code",
   "execution_count": null,
   "id": "65517e19-c758-4284-be68-6533f5e05a49",
   "metadata": {},
   "outputs": [],
   "source": [
    "Q4. What are getter and setter in python? Create a class and create a getter and a setter method in this \n",
    "class."
   ]
  },
  {
   "cell_type": "code",
   "execution_count": null,
   "id": "d2b5b118-b635-463b-b16d-8e507cf54af1",
   "metadata": {},
   "outputs": [],
   "source": [
    "In Python, getters and setters are methods used to get and set the values of an object's attributes, respectively. They provide a way to encapsulate\n",
    "the attributes of a class, so that they can be accessed and modified only through the methods defined in the class."
   ]
  },
  {
   "cell_type": "code",
   "execution_count": 6,
   "id": "3b4d544f-8c52-43d4-9319-2d07f9d45791",
   "metadata": {},
   "outputs": [],
   "source": [
    "class car:\n",
    "    def __init__(self,year,make,model,speed):\n",
    "        self.__year = year\n",
    "        self.__make = make\n",
    "        self.__model = model\n",
    "        self.__speed = 0        \n",
    "    def set_speed(self , speed):\n",
    "        self.__speed = 0 if speed < 0 else speed\n",
    "    def get_speed(self):\n",
    "        return self.__speed"
   ]
  },
  {
   "cell_type": "code",
   "execution_count": 8,
   "id": "75554e3c-0684-44c1-bef2-55bbdc967680",
   "metadata": {},
   "outputs": [],
   "source": [
    "obj_car = car(2020 , \"Toyoto\" , \"Fortuner\" ,  12)"
   ]
  },
  {
   "cell_type": "code",
   "execution_count": 9,
   "id": "666ed111-0c8c-4e96-b675-0b1fa886b4b2",
   "metadata": {},
   "outputs": [],
   "source": [
    "obj_car.set_speed(125)"
   ]
  },
  {
   "cell_type": "code",
   "execution_count": 10,
   "id": "18d5dd23-689b-4ea0-82d4-3d2d5b7c3895",
   "metadata": {},
   "outputs": [
    {
     "data": {
      "text/plain": [
       "125"
      ]
     },
     "execution_count": 10,
     "metadata": {},
     "output_type": "execute_result"
    }
   ],
   "source": [
    "obj_car.get_speed()"
   ]
  },
  {
   "cell_type": "code",
   "execution_count": null,
   "id": "3c991561-fe8a-4c0a-be06-96d205699adf",
   "metadata": {},
   "outputs": [],
   "source": [
    "Q5. What is method overriding in python? Write a python code to demonstrate method overriding."
   ]
  },
  {
   "cell_type": "code",
   "execution_count": null,
   "id": "9edba5f5-d524-40b7-8c48-dd9c94a860cb",
   "metadata": {},
   "outputs": [],
   "source": [
    "Method overriding is a feature of object-oriented programming languages where a subclass can provide its own implementation of a method that is\n",
    "already defined in its parent class. The subclass implementation of the method overrides the implementation in the parent class."
   ]
  },
  {
   "cell_type": "code",
   "execution_count": 11,
   "id": "24c20b66-0114-48d4-9e58-a1ef00db8b56",
   "metadata": {},
   "outputs": [
    {
     "name": "stdout",
     "output_type": "stream",
     "text": [
      "The animal speaks\n",
      "The dog barks\n",
      "The cat meows\n"
     ]
    }
   ],
   "source": [
    "class Animal:\n",
    "    def speak(self):\n",
    "        print(\"The animal speaks\")\n",
    "\n",
    "class Dog(Animal):\n",
    "    def speak(self):\n",
    "        print(\"The dog barks\")\n",
    "\n",
    "class Cat(Animal):\n",
    "    def speak(self):\n",
    "        print(\"The cat meows\")\n",
    "\n",
    "animal = Animal()\n",
    "animal.speak()\n",
    "\n",
    "dog = Dog()\n",
    "dog.speak()\n",
    "\n",
    "cat = Cat()\n",
    "cat.speak()"
   ]
  },
  {
   "cell_type": "code",
   "execution_count": null,
   "id": "e7b3dc4b-66c1-4bf7-be64-35b3a7cd672e",
   "metadata": {},
   "outputs": [],
   "source": []
  }
 ],
 "metadata": {
  "kernelspec": {
   "display_name": "Python 3 (ipykernel)",
   "language": "python",
   "name": "python3"
  },
  "language_info": {
   "codemirror_mode": {
    "name": "ipython",
    "version": 3
   },
   "file_extension": ".py",
   "mimetype": "text/x-python",
   "name": "python",
   "nbconvert_exporter": "python",
   "pygments_lexer": "ipython3",
   "version": "3.10.8"
  }
 },
 "nbformat": 4,
 "nbformat_minor": 5
}
